{
 "cells": [
  {
   "cell_type": "markdown",
   "metadata": {},
   "source": [
    "# Stacking\n",
    "\n",
    "The idea in this notebook is to implement stacking methods on the kickstarter data. Hopefully, to reach the ultimate score.\n",
    "\n",
    "1. [Premises](#Premises)\n",
    "    - [Packages](#Packages)\n",
    "    - [Functions](#Functions)\n",
    "    \n",
    "2. [Final predictions](#Final-predictions)\n",
    "    - [Importing models and datasets](#Importing-models-and-datasets)\n",
    "    - [Preparing the inputs of the level 1 model](#Preparing-the-inputs-of-the-level-1-model)\n",
    "    - [Majority Vote](#Majority-vote)\n",
    "    - [Stacking](#Stacking)\n",
    "        a. [Adaboost](#Adaboost)\n",
    "        b. [Logistic regression](#Logistic-regression)\n",
    "        c. [Neural network](#Neural-network)\n",
    "        d. [SVM](#SVM)\n",
    "        e. [Random forest](#Random-forest)\n",
    "        f. [XGB](#XGBoost)\n",
    "\n",
    "3. [Enhancements](#Enhancements)\n",
    "    - [Gridsearch](#Gridsearch)\n",
    "        a. [Adaboost](#GS-:-Adaboost)\n",
    "        b. [Logistic regression](#GS-:-Logistic-regression)\n",
    "        c. [SVM](#GS-:-SVM)\n",
    "        d. [Random forest](#GS-:-Random-forest)\n",
    "        e. [XGBoost](#GS-:-XGBoost)\n",
    "        \n",
    "4. [Conclusion](#Conclusion)\n",
    "\n",
    "## Premises\n",
    "### Packages\n",
    "Let's import the packages we need.\n"
   ]
  },
  {
   "cell_type": "code",
   "execution_count": 16,
   "metadata": {},
   "outputs": [],
   "source": [
    "import pandas as pd\n",
    "pd.set_option('display.max_columns', 50) # Display up to 50 columns at a time\n",
    "import numpy as np\n",
    "import matplotlib.pyplot as plt\n",
    "%matplotlib inline\n",
    "from matplotlib import cm\n",
    "plt.style.use('seaborn')\n",
    "from matplotlib.pylab import rcParams\n",
    "rcParams['figure.figsize'] = 12,5\n",
    "import glob # To read all csv files in the directory\n",
    "import seaborn as sns\n",
    "import calendar\n",
    "from sklearn.preprocessing import StandardScaler\n",
    "from sklearn.model_selection import train_test_split\n",
    "from sklearn.metrics import roc_curve, auc\n",
    "from sklearn.linear_model import LogisticRegression\n",
    "from sklearn.metrics import classification_report\n",
    "from sklearn.ensemble import AdaBoostClassifier\n",
    "from sklearn.decomposition import PCA\n",
    "from sklearn.pipeline import Pipeline\n",
    "from sklearn.ensemble import RandomForestClassifier \n",
    "from sklearn.ensemble import GradientBoostingClassifier as xgb\n",
    "from sklearn.model_selection import GridSearchCV\n",
    "from sklearn.metrics import confusion_matrix, f1_score, precision_recall_fscore_support\n",
    "import itertools\n",
    "import time\n",
    "import glob\n",
    "import pickle as pk\n",
    "from keras.models import load_model\n",
    "import os\n",
    "from sklearn.metrics import precision_recall_fscore_support\n",
    "from keras.models import Sequential, load_model\n",
    "from keras.layers import Dense, Activation\n",
    "from keras.utils import to_categorical\n",
    "import numpy as np\n",
    "from sklearn.linear_model import LogisticRegression as LR\n",
    "from sklearn.externals import joblib\n",
    "from sklearn import svm"
   ]
  },
  {
   "cell_type": "markdown",
   "metadata": {},
   "source": [
    "### Functions\n",
    "We will need a few functions througout this notebook."
   ]
  },
  {
   "cell_type": "code",
   "execution_count": 2,
   "metadata": {},
   "outputs": [],
   "source": [
    "def stacked_dataset(models, inputX, scaler = None, fit_scaler = False):\n",
    "    \"\"\"\n",
    "    Input : list of learners, np.array, sklearn object, bool\n",
    "    Output: np.array\n",
    "    The function takes a list of pretrained models,\n",
    "    the training observations and eventually a standard scaler to scale the stacked data.\n",
    "    The last boolean is an indicator to tell if the standard scaler ought to be trained or if it has already\n",
    "    been. Then it returns the concatenated predictions of each and every model in a flattened array. The output will be the\n",
    "    input of the level 1 model to train with trainStack.\n",
    "    \"\"\"\n",
    "    stackX = None\n",
    "    for model in models:\n",
    "        # make prediction\n",
    "        yhat = model.predict(inputX)\n",
    "        # stack predictions into [rows, members, probabilities]\n",
    "        if stackX is None:\n",
    "            stackX = yhat\n",
    "        else:\n",
    "            stackX = np.dstack((stackX, yhat))\n",
    "    # flatten predictions to [rows, members x probabilities]\n",
    "    if len(models) > 1:\n",
    "        stackX = stackX.reshape((stackX.shape[1], stackX.shape[2]))\n",
    "        \n",
    "#     print(\"Il y a {0} modèles, le format des observations est : {1} et celui des observations empilées est : {2}\".format(len(models), inputX.shape, stackX.shape))\n",
    "#     print(\"Les cinq premières lignes ressemblent à ceci : {}\".format(stackX[:5,:]))\n",
    "\n",
    "    if scaler is not None:\n",
    "        if fit_scaler:\n",
    "            stackX = scaler.fit_transform(stackX)\n",
    "        else:\n",
    "            stackX = scaler.transform(stackX)\n",
    "    \n",
    "#     print('Les résultats agglomérés des modèles ressemblent à ça : {}'.format(stackX[:5,:]))\n",
    "    return stackX"
   ]
  },
  {
   "cell_type": "code",
   "execution_count": 3,
   "metadata": {},
   "outputs": [],
   "source": [
    "def trainStack(first_models, final_model, X_stacked, y_train, is_MLP = False, epochs = 300):\n",
    "    \"\"\"\n",
    "    Input : list of learners, learner, np.array, np.array, bool, int\n",
    "    Output : learner\n",
    "    The function takes the level 0 trained learners, the level 1 learner to train, the stacked training observations, the \n",
    "    training labels, the boolean telling whether or not the top-level classifier is a Multi-Layer Perceptron and the integer\n",
    "    corresponding to the number of training epochs if we have an MLP.\n",
    "    It returns the level 1 trained model.\n",
    "    \"\"\"\n",
    "    \n",
    "    if is_MLP:\n",
    "        y_train_categ = to_categorical(y_train)\n",
    "#         print(\"Les labels pour l'entrainement ont cette forme : {}\".format(y_train_categ[:5]))\n",
    "        final_model.fit(X_stacked, y_train_categ, epochs = epochs, verbose = 0)\n",
    "    else:\n",
    "        final_model.fit(X_stacked, y_train)\n",
    "    \n",
    "    return final_model"
   ]
  },
  {
   "cell_type": "code",
   "execution_count": 4,
   "metadata": {},
   "outputs": [],
   "source": [
    "def predictStack(final_model, X_stacked):\n",
    "    \"\"\"\n",
    "    Returns the prediction of the final model on X_stacked which is the stack of the predictions of the level 0 models.\n",
    "    \"\"\"        \n",
    "    y_predicted = final_model.predict(X_stacked)\n",
    "    return y_predicted"
   ]
  },
  {
   "cell_type": "code",
   "execution_count": 5,
   "metadata": {},
   "outputs": [],
   "source": [
    "def probabilitiesToClass(array):\n",
    "    \"\"\"\n",
    "    Input: np.array of size (n,2)\n",
    "    Output : np.array of size (n,)\n",
    "    The function takes the array whose lines are the observations and column values correspond to the probability of belonging \n",
    "    to a given class. If the probability in a given column is superior to 0.5, then we will return the number of that class. \n",
    "    For instance : [0.33,0.66] for an observation will render [1] and [0.7,0.3] will render [0].\n",
    "    \"\"\"\n",
    "    res = np.array(array.shape[0]*[0])\n",
    "    for i in range(array.shape[0]):\n",
    "        if array[i,1] > array[i,0]:\n",
    "            res[i] = 1\n",
    "    return res"
   ]
  },
  {
   "cell_type": "code",
   "execution_count": 6,
   "metadata": {},
   "outputs": [],
   "source": [
    "def displayPerformances(y_test, y_test_pred, y_train, y_train_pred):\n",
    "    \"\"\"\n",
    "    Input: np.array (n,1), np.array (n,1), np.array (N,1), np.array (N,1)\n",
    "    Output : pd.DataFrame\n",
    "    The function takes the labels from the training set, the predicted labels, and the same for the test set. It returns\n",
    "    a DataFrame containing the values on each data set of the precision, the recall and the f1-score.\n",
    "    \"\"\"\n",
    "    test_precision, test_recall, test_f1score, test_support = precision_recall_fscore_support(y_test, y_test_pred, average='weighted')\n",
    "    train_precision, train_recall, train_f1score, train_support = precision_recall_fscore_support(y_train, y_train_pred, average='weighted')\n",
    "    results = {'Precision':[test_precision, train_precision], 'Recall':[test_recall, train_recall], 'F1_score': [test_f1score, train_f1score]}\n",
    "    results = pd.DataFrame(results, index=['Test','Train'])\n",
    "    \n",
    "    return results"
   ]
  },
  {
   "cell_type": "markdown",
   "metadata": {},
   "source": [
    "## Final predictions\n",
    "Now we we'll start to make our final predictions based on the outputs of the level 0 classifiers.\n",
    "\n",
    "### Importing models and datasets"
   ]
  },
  {
   "cell_type": "code",
   "execution_count": 7,
   "metadata": {},
   "outputs": [
    {
     "name": "stderr",
     "output_type": "stream",
     "text": [
      "D:\\Programmes files (x86)\\Anaconda\\envs\\tensorflow_env\\lib\\site-packages\\sklearn\\utils\\deprecation.py:144: FutureWarning: The sklearn.linear_model.logistic module is  deprecated in version 0.22 and will be removed in version 0.24. The corresponding classes / functions should instead be imported from sklearn.linear_model. Anything that cannot be imported from sklearn.linear_model is now part of the private API.\n",
      "  warnings.warn(message, FutureWarning)\n",
      "D:\\Programmes files (x86)\\Anaconda\\envs\\tensorflow_env\\lib\\site-packages\\sklearn\\base.py:318: UserWarning: Trying to unpickle estimator LogisticRegression from version 0.20.1 when using version 0.22.1. This might lead to breaking code or invalid results. Use at your own risk.\n",
      "  UserWarning)\n",
      "D:\\Programmes files (x86)\\Anaconda\\envs\\tensorflow_env\\lib\\site-packages\\sklearn\\utils\\deprecation.py:144: FutureWarning: The sklearn.preprocessing.label module is  deprecated in version 0.22 and will be removed in version 0.24. The corresponding classes / functions should instead be imported from sklearn.preprocessing. Anything that cannot be imported from sklearn.preprocessing is now part of the private API.\n",
      "  warnings.warn(message, FutureWarning)\n",
      "D:\\Programmes files (x86)\\Anaconda\\envs\\tensorflow_env\\lib\\site-packages\\sklearn\\base.py:318: UserWarning: Trying to unpickle estimator LabelEncoder from version 0.20.1 when using version 0.22.1. This might lead to breaking code or invalid results. Use at your own risk.\n",
      "  UserWarning)\n",
      "D:\\Programmes files (x86)\\Anaconda\\envs\\tensorflow_env\\lib\\site-packages\\sklearn\\utils\\deprecation.py:144: FutureWarning: The sklearn.ensemble.weight_boosting module is  deprecated in version 0.22 and will be removed in version 0.24. The corresponding classes / functions should instead be imported from sklearn.ensemble. Anything that cannot be imported from sklearn.ensemble is now part of the private API.\n",
      "  warnings.warn(message, FutureWarning)\n",
      "D:\\Programmes files (x86)\\Anaconda\\envs\\tensorflow_env\\lib\\site-packages\\sklearn\\utils\\deprecation.py:144: FutureWarning: The sklearn.tree.tree module is  deprecated in version 0.22 and will be removed in version 0.24. The corresponding classes / functions should instead be imported from sklearn.tree. Anything that cannot be imported from sklearn.tree is now part of the private API.\n",
      "  warnings.warn(message, FutureWarning)\n",
      "D:\\Programmes files (x86)\\Anaconda\\envs\\tensorflow_env\\lib\\site-packages\\sklearn\\base.py:318: UserWarning: Trying to unpickle estimator DecisionTreeClassifier from version 0.20.1 when using version 0.22.1. This might lead to breaking code or invalid results. Use at your own risk.\n",
      "  UserWarning)\n",
      "D:\\Programmes files (x86)\\Anaconda\\envs\\tensorflow_env\\lib\\site-packages\\sklearn\\base.py:318: UserWarning: Trying to unpickle estimator AdaBoostClassifier from version 0.20.1 when using version 0.22.1. This might lead to breaking code or invalid results. Use at your own risk.\n",
      "  UserWarning)\n",
      "D:\\Programmes files (x86)\\Anaconda\\envs\\tensorflow_env\\lib\\site-packages\\sklearn\\utils\\deprecation.py:144: FutureWarning: The sklearn.ensemble.forest module is  deprecated in version 0.22 and will be removed in version 0.24. The corresponding classes / functions should instead be imported from sklearn.ensemble. Anything that cannot be imported from sklearn.ensemble is now part of the private API.\n",
      "  warnings.warn(message, FutureWarning)\n",
      "D:\\Programmes files (x86)\\Anaconda\\envs\\tensorflow_env\\lib\\site-packages\\sklearn\\base.py:318: UserWarning: Trying to unpickle estimator RandomForestClassifier from version 0.20.1 when using version 0.22.1. This might lead to breaking code or invalid results. Use at your own risk.\n",
      "  UserWarning)\n"
     ]
    }
   ],
   "source": [
    "#Let's import a bunch of the level-0 classifiers\n",
    "level0_models = []\n",
    "\n",
    "dir_name = 'zero_level_models'\n",
    "file_list = os.listdir(dir_name)\n",
    "\n",
    "for f in file_list:        \n",
    "    if ('model1_' in f) or ('model2_' in f):\n",
    "        with open(dir_name+'/'+f,'rb') as file:\n",
    "            pickler = pk.Unpickler(file)\n",
    "            try:\n",
    "                temp = pickler.load()\n",
    "                level0_models.append(temp)\n",
    "            except:\n",
    "                continue"
   ]
  },
  {
   "cell_type": "code",
   "execution_count": 8,
   "metadata": {},
   "outputs": [],
   "source": [
    "# Loading the datasets. Since the models were trained on the first part of the dataset, we must choose different datasets this\n",
    "# time, for instance the second subsets\n",
    "X = pd.read_csv('processed_datasets/observations3.csv', index_col=0)\n",
    "y = pd.read_csv('processed_datasets/labels3.csv', index_col=0)"
   ]
  },
  {
   "cell_type": "code",
   "execution_count": 9,
   "metadata": {},
   "outputs": [],
   "source": [
    "length = X.shape[0]//2\n",
    "X_train = X.iloc[:length,:]\n",
    "y_train = y.iloc[:length,:]\n",
    "X_test = X.iloc[length:,:]\n",
    "y_test = y.iloc[length:,:]"
   ]
  },
  {
   "cell_type": "markdown",
   "metadata": {},
   "source": [
    "### Preparing the inputs of the level 1 model\n",
    "We will make the predictions of every model on the same dataset in order not to reprocess it each time we want to train the level 1 model."
   ]
  },
  {
   "cell_type": "code",
   "execution_count": 36,
   "metadata": {},
   "outputs": [],
   "source": [
    "samples_train = X_train.shape[0]\n",
    "samples_test = X_test.shape[0]"
   ]
  },
  {
   "cell_type": "code",
   "execution_count": 37,
   "metadata": {},
   "outputs": [
    {
     "name": "stderr",
     "output_type": "stream",
     "text": [
      "[Parallel(n_jobs=1)]: Using backend SequentialBackend with 1 concurrent workers.\n",
      "[Parallel(n_jobs=1)]: Done   1 out of   1 | elapsed:    0.0s remaining:    0.0s\n",
      "[Parallel(n_jobs=1)]: Done 200 out of 200 | elapsed:    1.7s finished\n"
     ]
    }
   ],
   "source": [
    "X_train_stacked = stacked_dataset(level0_models, X_train.iloc[:samples_train,:])"
   ]
  },
  {
   "cell_type": "code",
   "execution_count": 38,
   "metadata": {},
   "outputs": [
    {
     "name": "stderr",
     "output_type": "stream",
     "text": [
      "[Parallel(n_jobs=1)]: Using backend SequentialBackend with 1 concurrent workers.\n",
      "[Parallel(n_jobs=1)]: Done   1 out of   1 | elapsed:    0.0s remaining:    0.0s\n",
      "[Parallel(n_jobs=1)]: Done 200 out of 200 | elapsed:    1.7s finished\n"
     ]
    }
   ],
   "source": [
    "X_test_stacked = stacked_dataset(level0_models, X_test.iloc[:samples_test,:])"
   ]
  },
  {
   "cell_type": "markdown",
   "metadata": {},
   "source": [
    "### Majority vote\n",
    "\n",
    "One should keep in mind that ensemble learning and stacking may behave better with **lots of level 0 classifiers**. Indeed, to take a majority vote, it may seem better to have a lot of different outputs from level 0 learners. "
   ]
  },
  {
   "cell_type": "code",
   "execution_count": 76,
   "metadata": {},
   "outputs": [],
   "source": [
    "def majorityVote(first_models, X_stacked):\n",
    "    \"\"\"\n",
    "    Input : list of learners, np.array (N,d)\n",
    "    Output : np.array (N,)\n",
    "    The function takes the level 0 trained learners, and the stacked training observations. It returns the array containing \n",
    "    the majority vote coming from the level-0 classifiers.\n",
    "    \"\"\"\n",
    "    res = np.array(X_stacked.shape[0]*[0])\n",
    "    \n",
    "    for i in range(X_stacked.shape[0]):\n",
    "        line = X_stacked[i,:]\n",
    "        if (line == 1).sum() > (line == 0).sum():\n",
    "            res[i] = 1\n",
    "    \n",
    "    return res"
   ]
  },
  {
   "cell_type": "code",
   "execution_count": 186,
   "metadata": {},
   "outputs": [],
   "source": [
    "y_mv = majorityVote(level0_models, X_test_stacked)"
   ]
  },
  {
   "cell_type": "code",
   "execution_count": 187,
   "metadata": {},
   "outputs": [
    {
     "data": {
      "text/html": [
       "<div>\n",
       "<style scoped>\n",
       "    .dataframe tbody tr th:only-of-type {\n",
       "        vertical-align: middle;\n",
       "    }\n",
       "\n",
       "    .dataframe tbody tr th {\n",
       "        vertical-align: top;\n",
       "    }\n",
       "\n",
       "    .dataframe thead th {\n",
       "        text-align: right;\n",
       "    }\n",
       "</style>\n",
       "<table border=\"1\" class=\"dataframe\">\n",
       "  <thead>\n",
       "    <tr style=\"text-align: right;\">\n",
       "      <th></th>\n",
       "      <th>Precision</th>\n",
       "      <th>Recall</th>\n",
       "      <th>F1_score</th>\n",
       "    </tr>\n",
       "  </thead>\n",
       "  <tbody>\n",
       "    <tr>\n",
       "      <th>Test</th>\n",
       "      <td>0.750401</td>\n",
       "      <td>0.741585</td>\n",
       "      <td>0.738815</td>\n",
       "    </tr>\n",
       "    <tr>\n",
       "      <th>Train</th>\n",
       "      <td>1.000000</td>\n",
       "      <td>1.000000</td>\n",
       "      <td>1.000000</td>\n",
       "    </tr>\n",
       "  </tbody>\n",
       "</table>\n",
       "</div>"
      ],
      "text/plain": [
       "       Precision    Recall  F1_score\n",
       "Test    0.750401  0.741585  0.738815\n",
       "Train   1.000000  1.000000  1.000000"
      ]
     },
     "execution_count": 187,
     "metadata": {},
     "output_type": "execute_result"
    }
   ],
   "source": [
    "# The training performances are meaningless\n",
    "res_mv = displayPerformances(y_test.iloc[:samples_test,:], y_mv, y_train.iloc[:10,:],y_train.iloc[:10,:])\n",
    "res_mv"
   ]
  },
  {
   "cell_type": "markdown",
   "metadata": {},
   "source": [
    "### Stacking\n",
    "#### Adaboost\n",
    "The level 1 classifier is the adaboost algorithm."
   ]
  },
  {
   "cell_type": "code",
   "execution_count": 188,
   "metadata": {},
   "outputs": [],
   "source": [
    "top_model1 = AdaBoostClassifier();"
   ]
  },
  {
   "cell_type": "code",
   "execution_count": 189,
   "metadata": {},
   "outputs": [
    {
     "name": "stderr",
     "output_type": "stream",
     "text": [
      "D:\\Programmes files (x86)\\Anaconda\\envs\\tensorflow_env\\lib\\site-packages\\sklearn\\utils\\validation.py:760: DataConversionWarning: A column-vector y was passed when a 1d array was expected. Please change the shape of y to (n_samples, ), for example using ravel().\n",
      "  y = column_or_1d(y, warn=True)\n"
     ]
    }
   ],
   "source": [
    "stack1 = trainStack(level0_models, top_model1, X_train_stacked, y_train.iloc[:samples_train,:])"
   ]
  },
  {
   "cell_type": "code",
   "execution_count": 190,
   "metadata": {},
   "outputs": [],
   "source": [
    "y_test_adab = predictStack(stack1, X_test_stacked)"
   ]
  },
  {
   "cell_type": "code",
   "execution_count": 191,
   "metadata": {},
   "outputs": [],
   "source": [
    "# Displaying the results\n",
    "y_train_adab = predictStack(stack1, X_train_stacked)"
   ]
  },
  {
   "cell_type": "code",
   "execution_count": 192,
   "metadata": {
    "scrolled": true
   },
   "outputs": [
    {
     "data": {
      "text/html": [
       "<div>\n",
       "<style scoped>\n",
       "    .dataframe tbody tr th:only-of-type {\n",
       "        vertical-align: middle;\n",
       "    }\n",
       "\n",
       "    .dataframe tbody tr th {\n",
       "        vertical-align: top;\n",
       "    }\n",
       "\n",
       "    .dataframe thead th {\n",
       "        text-align: right;\n",
       "    }\n",
       "</style>\n",
       "<table border=\"1\" class=\"dataframe\">\n",
       "  <thead>\n",
       "    <tr style=\"text-align: right;\">\n",
       "      <th></th>\n",
       "      <th>Precision</th>\n",
       "      <th>Recall</th>\n",
       "      <th>F1_score</th>\n",
       "    </tr>\n",
       "  </thead>\n",
       "  <tbody>\n",
       "    <tr>\n",
       "      <th>Test</th>\n",
       "      <td>0.763720</td>\n",
       "      <td>0.756853</td>\n",
       "      <td>0.754888</td>\n",
       "    </tr>\n",
       "    <tr>\n",
       "      <th>Train</th>\n",
       "      <td>0.761941</td>\n",
       "      <td>0.759152</td>\n",
       "      <td>0.756560</td>\n",
       "    </tr>\n",
       "  </tbody>\n",
       "</table>\n",
       "</div>"
      ],
      "text/plain": [
       "       Precision    Recall  F1_score\n",
       "Test    0.763720  0.756853  0.754888\n",
       "Train   0.761941  0.759152  0.756560"
      ]
     },
     "execution_count": 192,
     "metadata": {},
     "output_type": "execute_result"
    }
   ],
   "source": [
    "res = displayPerformances(y_test.iloc[:samples_test,:], y_test_adab, y_train.iloc[:samples_train,:], y_train_adab)\n",
    "res"
   ]
  },
  {
   "cell_type": "markdown",
   "metadata": {},
   "source": [
    "#### Logistic regression\n",
    "The level 1 classifier is a logistic regression. At first, we did not adjust the parameters but then, after gridsearching, we took the best parameters found by the gridsearch algorithm (see the [Enhancements section](#Enhancements))."
   ]
  },
  {
   "cell_type": "code",
   "execution_count": 193,
   "metadata": {},
   "outputs": [],
   "source": [
    "top_model_lr = LogisticRegression(penalty = 'l2', fit_intercept = True, C = 0.02)\n",
    "sc = StandardScaler();"
   ]
  },
  {
   "cell_type": "code",
   "execution_count": 194,
   "metadata": {},
   "outputs": [],
   "source": [
    "# We want to scale our data\n",
    "X_train_scaled = sc.fit_transform(X_train_stacked)\n",
    "X_test_scaled = sc.transform(X_test_stacked)"
   ]
  },
  {
   "cell_type": "code",
   "execution_count": 195,
   "metadata": {},
   "outputs": [
    {
     "name": "stderr",
     "output_type": "stream",
     "text": [
      "D:\\Programmes files (x86)\\Anaconda\\envs\\tensorflow_env\\lib\\site-packages\\sklearn\\utils\\validation.py:760: DataConversionWarning: A column-vector y was passed when a 1d array was expected. Please change the shape of y to (n_samples, ), for example using ravel().\n",
      "  y = column_or_1d(y, warn=True)\n"
     ]
    }
   ],
   "source": [
    "stack_lr = trainStack(level0_models, top_model_lr, X_train_scaled, y_train.iloc[:samples_train,:])"
   ]
  },
  {
   "cell_type": "code",
   "execution_count": 196,
   "metadata": {},
   "outputs": [],
   "source": [
    "y_test_lr = predictStack(stack_lr, X_test_scaled)"
   ]
  },
  {
   "cell_type": "code",
   "execution_count": 197,
   "metadata": {},
   "outputs": [],
   "source": [
    "# Displaying the results\n",
    "y_train_lr = predictStack(stack_lr, X_train_scaled)"
   ]
  },
  {
   "cell_type": "code",
   "execution_count": 198,
   "metadata": {
    "scrolled": false
   },
   "outputs": [
    {
     "data": {
      "text/html": [
       "<div>\n",
       "<style scoped>\n",
       "    .dataframe tbody tr th:only-of-type {\n",
       "        vertical-align: middle;\n",
       "    }\n",
       "\n",
       "    .dataframe tbody tr th {\n",
       "        vertical-align: top;\n",
       "    }\n",
       "\n",
       "    .dataframe thead th {\n",
       "        text-align: right;\n",
       "    }\n",
       "</style>\n",
       "<table border=\"1\" class=\"dataframe\">\n",
       "  <thead>\n",
       "    <tr style=\"text-align: right;\">\n",
       "      <th></th>\n",
       "      <th>Precision</th>\n",
       "      <th>Recall</th>\n",
       "      <th>F1_score</th>\n",
       "    </tr>\n",
       "  </thead>\n",
       "  <tbody>\n",
       "    <tr>\n",
       "      <th>Test</th>\n",
       "      <td>0.763720</td>\n",
       "      <td>0.756853</td>\n",
       "      <td>0.754888</td>\n",
       "    </tr>\n",
       "    <tr>\n",
       "      <th>Train</th>\n",
       "      <td>0.761941</td>\n",
       "      <td>0.759152</td>\n",
       "      <td>0.756560</td>\n",
       "    </tr>\n",
       "  </tbody>\n",
       "</table>\n",
       "</div>"
      ],
      "text/plain": [
       "       Precision    Recall  F1_score\n",
       "Test    0.763720  0.756853  0.754888\n",
       "Train   0.761941  0.759152  0.756560"
      ]
     },
     "execution_count": 198,
     "metadata": {},
     "output_type": "execute_result"
    }
   ],
   "source": [
    "res_lr = displayPerformances(y_test.iloc[:samples_test,:], y_test_lr, y_train.iloc[:samples_train,:],y_train_lr)\n",
    "res_lr"
   ]
  },
  {
   "cell_type": "markdown",
   "metadata": {},
   "source": [
    "#### Neural network\n",
    "The level 1 classifier is a neural network"
   ]
  },
  {
   "cell_type": "code",
   "execution_count": 199,
   "metadata": {},
   "outputs": [],
   "source": [
    "nn = Sequential()\n",
    "nn.add(Dense(25, input_dim=len(level0_models), activation='relu'))\n",
    "nn.add(Dense(2, activation='softmax'))\n",
    "nn.compile(loss='binary_crossentropy', optimizer='adam', metrics=['binary_accuracy']);"
   ]
  },
  {
   "cell_type": "code",
   "execution_count": 200,
   "metadata": {},
   "outputs": [],
   "source": [
    "stack_nn = trainStack(level0_models, nn, X_train_scaled, y_train.iloc[:samples_train,:], is_MLP = True)"
   ]
  },
  {
   "cell_type": "code",
   "execution_count": 201,
   "metadata": {},
   "outputs": [],
   "source": [
    "y_test_nn = probabilitiesToClass(predictStack(stack_nn, X_test_scaled))"
   ]
  },
  {
   "cell_type": "code",
   "execution_count": 202,
   "metadata": {},
   "outputs": [],
   "source": [
    "# Displaying the results\n",
    "y_train_nn = probabilitiesToClass(predictStack(stack_nn, X_train_scaled))"
   ]
  },
  {
   "cell_type": "code",
   "execution_count": 203,
   "metadata": {
    "scrolled": true
   },
   "outputs": [
    {
     "data": {
      "text/html": [
       "<div>\n",
       "<style scoped>\n",
       "    .dataframe tbody tr th:only-of-type {\n",
       "        vertical-align: middle;\n",
       "    }\n",
       "\n",
       "    .dataframe tbody tr th {\n",
       "        vertical-align: top;\n",
       "    }\n",
       "\n",
       "    .dataframe thead th {\n",
       "        text-align: right;\n",
       "    }\n",
       "</style>\n",
       "<table border=\"1\" class=\"dataframe\">\n",
       "  <thead>\n",
       "    <tr style=\"text-align: right;\">\n",
       "      <th></th>\n",
       "      <th>Precision</th>\n",
       "      <th>Recall</th>\n",
       "      <th>F1_score</th>\n",
       "    </tr>\n",
       "  </thead>\n",
       "  <tbody>\n",
       "    <tr>\n",
       "      <th>Test</th>\n",
       "      <td>0.761077</td>\n",
       "      <td>0.754474</td>\n",
       "      <td>0.752539</td>\n",
       "    </tr>\n",
       "    <tr>\n",
       "      <th>Train</th>\n",
       "      <td>0.766211</td>\n",
       "      <td>0.763448</td>\n",
       "      <td>0.760977</td>\n",
       "    </tr>\n",
       "  </tbody>\n",
       "</table>\n",
       "</div>"
      ],
      "text/plain": [
       "       Precision    Recall  F1_score\n",
       "Test    0.761077  0.754474  0.752539\n",
       "Train   0.766211  0.763448  0.760977"
      ]
     },
     "execution_count": 203,
     "metadata": {},
     "output_type": "execute_result"
    }
   ],
   "source": [
    "res_nn = displayPerformances(y_test.iloc[:samples_test,:], y_test_nn, y_train.iloc[:samples_train,:],y_train_nn)\n",
    "res_nn"
   ]
  },
  {
   "cell_type": "markdown",
   "metadata": {},
   "source": [
    "#### SVM\n",
    "The top level classifier is a support vector machine."
   ]
  },
  {
   "cell_type": "code",
   "execution_count": 204,
   "metadata": {},
   "outputs": [],
   "source": [
    "from sklearn import svm\n",
    "svm_poly = svm.SVC(kernel = 'linear', C = 0.01, coef0 = 0.01, gamma = 'scale')"
   ]
  },
  {
   "cell_type": "code",
   "execution_count": 205,
   "metadata": {},
   "outputs": [
    {
     "name": "stderr",
     "output_type": "stream",
     "text": [
      "D:\\Programmes files (x86)\\Anaconda\\envs\\tensorflow_env\\lib\\site-packages\\sklearn\\utils\\validation.py:760: DataConversionWarning: A column-vector y was passed when a 1d array was expected. Please change the shape of y to (n_samples, ), for example using ravel().\n",
      "  y = column_or_1d(y, warn=True)\n"
     ]
    }
   ],
   "source": [
    "stack_svm = trainStack(level0_models, svm_poly, X_train_scaled, y_train.iloc[:samples_train,:])"
   ]
  },
  {
   "cell_type": "code",
   "execution_count": 206,
   "metadata": {},
   "outputs": [],
   "source": [
    "y_test_svm = predictStack(stack_svm, X_test_scaled)"
   ]
  },
  {
   "cell_type": "code",
   "execution_count": 207,
   "metadata": {},
   "outputs": [],
   "source": [
    "# Displaying the results\n",
    "y_train_svm = predictStack(stack_svm, X_train_scaled)"
   ]
  },
  {
   "cell_type": "code",
   "execution_count": 208,
   "metadata": {
    "scrolled": false
   },
   "outputs": [
    {
     "data": {
      "text/html": [
       "<div>\n",
       "<style scoped>\n",
       "    .dataframe tbody tr th:only-of-type {\n",
       "        vertical-align: middle;\n",
       "    }\n",
       "\n",
       "    .dataframe tbody tr th {\n",
       "        vertical-align: top;\n",
       "    }\n",
       "\n",
       "    .dataframe thead th {\n",
       "        text-align: right;\n",
       "    }\n",
       "</style>\n",
       "<table border=\"1\" class=\"dataframe\">\n",
       "  <thead>\n",
       "    <tr style=\"text-align: right;\">\n",
       "      <th></th>\n",
       "      <th>Precision</th>\n",
       "      <th>Recall</th>\n",
       "      <th>F1_score</th>\n",
       "    </tr>\n",
       "  </thead>\n",
       "  <tbody>\n",
       "    <tr>\n",
       "      <th>Test</th>\n",
       "      <td>0.769431</td>\n",
       "      <td>0.757030</td>\n",
       "      <td>0.753717</td>\n",
       "    </tr>\n",
       "    <tr>\n",
       "      <th>Train</th>\n",
       "      <td>0.768447</td>\n",
       "      <td>0.761034</td>\n",
       "      <td>0.756668</td>\n",
       "    </tr>\n",
       "  </tbody>\n",
       "</table>\n",
       "</div>"
      ],
      "text/plain": [
       "       Precision    Recall  F1_score\n",
       "Test    0.769431  0.757030  0.753717\n",
       "Train   0.768447  0.761034  0.756668"
      ]
     },
     "execution_count": 208,
     "metadata": {},
     "output_type": "execute_result"
    }
   ],
   "source": [
    "res_svm = displayPerformances(y_test.iloc[:samples_test,:], y_test_svm, y_train.iloc[:samples_train,:],y_train_svm)\n",
    "res_svm"
   ]
  },
  {
   "cell_type": "markdown",
   "metadata": {},
   "source": [
    "#### Random forest\n",
    "The top level classifier is a random forest. First, we trained the model without adjusting its parrameters, but then, after gridsearching, we took the supposedly best parameters (see the Gridsearching section)."
   ]
  },
  {
   "cell_type": "code",
   "execution_count": 209,
   "metadata": {},
   "outputs": [
    {
     "data": {
      "text/plain": [
       "RandomForestClassifier(bootstrap=True, ccp_alpha=0.001, class_weight=None,\n",
       "                       criterion='gini', max_depth=3, max_features='auto',\n",
       "                       max_leaf_nodes=None, max_samples=None,\n",
       "                       min_impurity_decrease=0.0, min_impurity_split=None,\n",
       "                       min_samples_leaf=1, min_samples_split=2,\n",
       "                       min_weight_fraction_leaf=0.0, n_estimators=50,\n",
       "                       n_jobs=None, oob_score=False, random_state=None,\n",
       "                       verbose=0, warm_start=False)"
      ]
     },
     "execution_count": 209,
     "metadata": {},
     "output_type": "execute_result"
    }
   ],
   "source": [
    "RandomForestClassifier(max_depth=3, n_estimators=50, ccp_alpha = 0.001, min_samples_leaf = 1)\n",
    "# max_depth=10, min_samples_split=0.001, n_estimators=100"
   ]
  },
  {
   "cell_type": "code",
   "execution_count": 210,
   "metadata": {},
   "outputs": [
    {
     "name": "stderr",
     "output_type": "stream",
     "text": [
      "D:\\Programmes files (x86)\\Anaconda\\envs\\tensorflow_env\\lib\\site-packages\\ipykernel_launcher.py:16: DataConversionWarning: A column-vector y was passed when a 1d array was expected. Please change the shape of y to (n_samples,), for example using ravel().\n",
      "  app.launch_new_instance()\n"
     ]
    }
   ],
   "source": [
    "stack_rf = trainStack(level0_models, rf, X_train_scaled, y_train.iloc[:samples_train,:])"
   ]
  },
  {
   "cell_type": "code",
   "execution_count": 211,
   "metadata": {},
   "outputs": [],
   "source": [
    "y_test_rf = predictStack(stack_rf, X_test_scaled)"
   ]
  },
  {
   "cell_type": "code",
   "execution_count": 212,
   "metadata": {},
   "outputs": [],
   "source": [
    "# Displaying the results\n",
    "y_train_rf = predictStack(stack_rf, X_train_scaled)"
   ]
  },
  {
   "cell_type": "code",
   "execution_count": 213,
   "metadata": {
    "scrolled": false
   },
   "outputs": [
    {
     "data": {
      "text/html": [
       "<div>\n",
       "<style scoped>\n",
       "    .dataframe tbody tr th:only-of-type {\n",
       "        vertical-align: middle;\n",
       "    }\n",
       "\n",
       "    .dataframe tbody tr th {\n",
       "        vertical-align: top;\n",
       "    }\n",
       "\n",
       "    .dataframe thead th {\n",
       "        text-align: right;\n",
       "    }\n",
       "</style>\n",
       "<table border=\"1\" class=\"dataframe\">\n",
       "  <thead>\n",
       "    <tr style=\"text-align: right;\">\n",
       "      <th></th>\n",
       "      <th>Precision</th>\n",
       "      <th>Recall</th>\n",
       "      <th>F1_score</th>\n",
       "    </tr>\n",
       "  </thead>\n",
       "  <tbody>\n",
       "    <tr>\n",
       "      <th>Test</th>\n",
       "      <td>0.769431</td>\n",
       "      <td>0.757030</td>\n",
       "      <td>0.753717</td>\n",
       "    </tr>\n",
       "    <tr>\n",
       "      <th>Train</th>\n",
       "      <td>0.768447</td>\n",
       "      <td>0.761034</td>\n",
       "      <td>0.756668</td>\n",
       "    </tr>\n",
       "  </tbody>\n",
       "</table>\n",
       "</div>"
      ],
      "text/plain": [
       "       Precision    Recall  F1_score\n",
       "Test    0.769431  0.757030  0.753717\n",
       "Train   0.768447  0.761034  0.756668"
      ]
     },
     "execution_count": 213,
     "metadata": {},
     "output_type": "execute_result"
    }
   ],
   "source": [
    "res_rf = displayPerformances(y_test.iloc[:samples_test,:], y_test_rf, y_train.iloc[:samples_train,:],y_train_rf)\n",
    "res_rf"
   ]
  },
  {
   "cell_type": "markdown",
   "metadata": {},
   "source": [
    "#### XGBoost\n",
    "The top level classifier is an XGBoost. First, we trained the model without adjusting its parameters, but then, after gridsearching, we took the supposedly best parameters (see the Gridsearching section)."
   ]
  },
  {
   "cell_type": "code",
   "execution_count": 49,
   "metadata": {},
   "outputs": [],
   "source": [
    "from sklearn.ensemble import GradientBoostingClassifier as xgb\n",
    "xgboost = xgb(n_estimators = 30, min_samples_leaf = 3, max_depth = 5, ccp_alpha = 0);"
   ]
  },
  {
   "cell_type": "code",
   "execution_count": 50,
   "metadata": {},
   "outputs": [
    {
     "name": "stderr",
     "output_type": "stream",
     "text": [
      "D:\\Programmes files (x86)\\Anaconda\\envs\\tensorflow_env\\lib\\site-packages\\sklearn\\ensemble\\_gb.py:1454: DataConversionWarning: A column-vector y was passed when a 1d array was expected. Please change the shape of y to (n_samples, ), for example using ravel().\n",
      "  y = column_or_1d(y, warn=True)\n"
     ]
    }
   ],
   "source": [
    "stack_xgb = trainStack(level0_models, xgboost, X_train_stacked, y_train.iloc[:samples_train,:])"
   ]
  },
  {
   "cell_type": "code",
   "execution_count": 51,
   "metadata": {},
   "outputs": [],
   "source": [
    "y_test_xgb = predictStack(stack_xgb, X_test_stacked)"
   ]
  },
  {
   "cell_type": "code",
   "execution_count": 52,
   "metadata": {},
   "outputs": [],
   "source": [
    "# Displaying the results\n",
    "y_train_xgb = predictStack(stack_xgb, X_train_stacked)"
   ]
  },
  {
   "cell_type": "code",
   "execution_count": 53,
   "metadata": {
    "scrolled": false
   },
   "outputs": [
    {
     "data": {
      "text/html": [
       "<div>\n",
       "<style scoped>\n",
       "    .dataframe tbody tr th:only-of-type {\n",
       "        vertical-align: middle;\n",
       "    }\n",
       "\n",
       "    .dataframe tbody tr th {\n",
       "        vertical-align: top;\n",
       "    }\n",
       "\n",
       "    .dataframe thead th {\n",
       "        text-align: right;\n",
       "    }\n",
       "</style>\n",
       "<table border=\"1\" class=\"dataframe\">\n",
       "  <thead>\n",
       "    <tr style=\"text-align: right;\">\n",
       "      <th></th>\n",
       "      <th>Precision</th>\n",
       "      <th>Recall</th>\n",
       "      <th>F1_score</th>\n",
       "    </tr>\n",
       "  </thead>\n",
       "  <tbody>\n",
       "    <tr>\n",
       "      <th>Test</th>\n",
       "      <td>0.764739</td>\n",
       "      <td>0.756782</td>\n",
       "      <td>0.754543</td>\n",
       "    </tr>\n",
       "    <tr>\n",
       "      <th>Train</th>\n",
       "      <td>0.766897</td>\n",
       "      <td>0.763200</td>\n",
       "      <td>0.760322</td>\n",
       "    </tr>\n",
       "  </tbody>\n",
       "</table>\n",
       "</div>"
      ],
      "text/plain": [
       "       Precision    Recall  F1_score\n",
       "Test    0.764739  0.756782  0.754543\n",
       "Train   0.766897  0.763200  0.760322"
      ]
     },
     "execution_count": 53,
     "metadata": {},
     "output_type": "execute_result"
    }
   ],
   "source": [
    "res_xgb = displayPerformances(y_test.iloc[:samples_test,:], y_test_xgb, y_train.iloc[:samples_train,:], y_train_xgb)\n",
    "res_xgb"
   ]
  },
  {
   "cell_type": "markdown",
   "metadata": {},
   "source": [
    "# Enhancements\n",
    "We will try to enhance our top-level models.\n",
    "\n",
    "## Gridsearch\n",
    "\n",
    "One of the best ways to do so, is to find the best parameters for each algorithm with a gridsearch. However, it can be computationaly expensive, so we will take a small number of observations and assume that the best parameters yielded by the gridsearches are the same when we take a greater number of observations.\n",
    "Please notice that all the gridsearch we ran are not subjected here, we ran the cells and changed the parameters each time, in order to save time and space.\n",
    "\n",
    "### GS : Adaboost\n",
    "\n",
    "Let's grid search on the parameters of adaboost."
   ]
  },
  {
   "cell_type": "code",
   "execution_count": 112,
   "metadata": {},
   "outputs": [
    {
     "name": "stderr",
     "output_type": "stream",
     "text": [
      "D:\\Programmes files (x86)\\Anaconda\\envs\\tensorflow_env\\lib\\site-packages\\sklearn\\utils\\validation.py:760: DataConversionWarning: A column-vector y was passed when a 1d array was expected. Please change the shape of y to (n_samples, ), for example using ravel().\n",
      "  y = column_or_1d(y, warn=True)\n",
      "D:\\Programmes files (x86)\\Anaconda\\envs\\tensorflow_env\\lib\\site-packages\\sklearn\\utils\\validation.py:760: DataConversionWarning: A column-vector y was passed when a 1d array was expected. Please change the shape of y to (n_samples, ), for example using ravel().\n",
      "  y = column_or_1d(y, warn=True)\n",
      "D:\\Programmes files (x86)\\Anaconda\\envs\\tensorflow_env\\lib\\site-packages\\sklearn\\utils\\validation.py:760: DataConversionWarning: A column-vector y was passed when a 1d array was expected. Please change the shape of y to (n_samples, ), for example using ravel().\n",
      "  y = column_or_1d(y, warn=True)\n",
      "D:\\Programmes files (x86)\\Anaconda\\envs\\tensorflow_env\\lib\\site-packages\\sklearn\\utils\\validation.py:760: DataConversionWarning: A column-vector y was passed when a 1d array was expected. Please change the shape of y to (n_samples, ), for example using ravel().\n",
      "  y = column_or_1d(y, warn=True)\n",
      "D:\\Programmes files (x86)\\Anaconda\\envs\\tensorflow_env\\lib\\site-packages\\sklearn\\utils\\validation.py:760: DataConversionWarning: A column-vector y was passed when a 1d array was expected. Please change the shape of y to (n_samples, ), for example using ravel().\n",
      "  y = column_or_1d(y, warn=True)\n",
      "D:\\Programmes files (x86)\\Anaconda\\envs\\tensorflow_env\\lib\\site-packages\\sklearn\\utils\\validation.py:760: DataConversionWarning: A column-vector y was passed when a 1d array was expected. Please change the shape of y to (n_samples, ), for example using ravel().\n",
      "  y = column_or_1d(y, warn=True)\n",
      "D:\\Programmes files (x86)\\Anaconda\\envs\\tensorflow_env\\lib\\site-packages\\sklearn\\utils\\validation.py:760: DataConversionWarning: A column-vector y was passed when a 1d array was expected. Please change the shape of y to (n_samples, ), for example using ravel().\n",
      "  y = column_or_1d(y, warn=True)\n"
     ]
    },
    {
     "name": "stdout",
     "output_type": "stream",
     "text": [
      "Time taken to run: 0.1 minutes\n",
      "Best accuracy: 0.75\n",
      "Best parameters: {'n_estimators': 50}\n"
     ]
    }
   ],
   "source": [
    "# Using GridSearchCV to test different parameters\n",
    "adab_start = time.time()\n",
    "\n",
    "adab = AdaBoostClassifier()\n",
    "\n",
    "params_adab = [{'n_estimators': [50, 75, 100]}]\n",
    "\n",
    "grid_adab = GridSearchCV(estimator=adab, param_grid=params_adab, cv=2)\n",
    "\n",
    "grid_adab.fit(X_train_stacked, y_train.iloc[:samples_train,:])\n",
    "\n",
    "adab_end = time.time()\n",
    "\n",
    "adab_best_score = grid_adab.best_score_\n",
    "adab_best_params = grid_adab.best_params_\n",
    "\n",
    "print(f\"Time taken to run: {round((adab_end - adab_start)/60,1)} minutes\")\n",
    "print(\"Best accuracy:\", round(adab_best_score,2))\n",
    "print(\"Best parameters:\", adab_best_params)"
   ]
  },
  {
   "cell_type": "markdown",
   "metadata": {},
   "source": [
    "### GS : Logistic regression\n",
    "Let's grid search over the parameters of the logistic regression."
   ]
  },
  {
   "cell_type": "code",
   "execution_count": 118,
   "metadata": {
    "scrolled": true
   },
   "outputs": [
    {
     "name": "stderr",
     "output_type": "stream",
     "text": [
      "D:\\Programmes files (x86)\\Anaconda\\envs\\tensorflow_env\\lib\\site-packages\\sklearn\\utils\\validation.py:760: DataConversionWarning: A column-vector y was passed when a 1d array was expected. Please change the shape of y to (n_samples, ), for example using ravel().\n",
      "  y = column_or_1d(y, warn=True)\n",
      "D:\\Programmes files (x86)\\Anaconda\\envs\\tensorflow_env\\lib\\site-packages\\sklearn\\utils\\validation.py:760: DataConversionWarning: A column-vector y was passed when a 1d array was expected. Please change the shape of y to (n_samples, ), for example using ravel().\n",
      "  y = column_or_1d(y, warn=True)\n",
      "D:\\Programmes files (x86)\\Anaconda\\envs\\tensorflow_env\\lib\\site-packages\\sklearn\\utils\\validation.py:760: DataConversionWarning: A column-vector y was passed when a 1d array was expected. Please change the shape of y to (n_samples, ), for example using ravel().\n",
      "  y = column_or_1d(y, warn=True)\n",
      "D:\\Programmes files (x86)\\Anaconda\\envs\\tensorflow_env\\lib\\site-packages\\sklearn\\utils\\validation.py:760: DataConversionWarning: A column-vector y was passed when a 1d array was expected. Please change the shape of y to (n_samples, ), for example using ravel().\n",
      "  y = column_or_1d(y, warn=True)\n",
      "D:\\Programmes files (x86)\\Anaconda\\envs\\tensorflow_env\\lib\\site-packages\\sklearn\\utils\\validation.py:760: DataConversionWarning: A column-vector y was passed when a 1d array was expected. Please change the shape of y to (n_samples, ), for example using ravel().\n",
      "  y = column_or_1d(y, warn=True)\n",
      "D:\\Programmes files (x86)\\Anaconda\\envs\\tensorflow_env\\lib\\site-packages\\sklearn\\utils\\validation.py:760: DataConversionWarning: A column-vector y was passed when a 1d array was expected. Please change the shape of y to (n_samples, ), for example using ravel().\n",
      "  y = column_or_1d(y, warn=True)\n",
      "D:\\Programmes files (x86)\\Anaconda\\envs\\tensorflow_env\\lib\\site-packages\\sklearn\\utils\\validation.py:760: DataConversionWarning: A column-vector y was passed when a 1d array was expected. Please change the shape of y to (n_samples, ), for example using ravel().\n",
      "  y = column_or_1d(y, warn=True)\n",
      "D:\\Programmes files (x86)\\Anaconda\\envs\\tensorflow_env\\lib\\site-packages\\sklearn\\utils\\validation.py:760: DataConversionWarning: A column-vector y was passed when a 1d array was expected. Please change the shape of y to (n_samples, ), for example using ravel().\n",
      "  y = column_or_1d(y, warn=True)\n",
      "D:\\Programmes files (x86)\\Anaconda\\envs\\tensorflow_env\\lib\\site-packages\\sklearn\\utils\\validation.py:760: DataConversionWarning: A column-vector y was passed when a 1d array was expected. Please change the shape of y to (n_samples, ), for example using ravel().\n",
      "  y = column_or_1d(y, warn=True)\n",
      "D:\\Programmes files (x86)\\Anaconda\\envs\\tensorflow_env\\lib\\site-packages\\sklearn\\utils\\validation.py:760: DataConversionWarning: A column-vector y was passed when a 1d array was expected. Please change the shape of y to (n_samples, ), for example using ravel().\n",
      "  y = column_or_1d(y, warn=True)\n",
      "D:\\Programmes files (x86)\\Anaconda\\envs\\tensorflow_env\\lib\\site-packages\\sklearn\\utils\\validation.py:760: DataConversionWarning: A column-vector y was passed when a 1d array was expected. Please change the shape of y to (n_samples, ), for example using ravel().\n",
      "  y = column_or_1d(y, warn=True)\n",
      "D:\\Programmes files (x86)\\Anaconda\\envs\\tensorflow_env\\lib\\site-packages\\sklearn\\utils\\validation.py:760: DataConversionWarning: A column-vector y was passed when a 1d array was expected. Please change the shape of y to (n_samples, ), for example using ravel().\n",
      "  y = column_or_1d(y, warn=True)\n",
      "D:\\Programmes files (x86)\\Anaconda\\envs\\tensorflow_env\\lib\\site-packages\\sklearn\\utils\\validation.py:760: DataConversionWarning: A column-vector y was passed when a 1d array was expected. Please change the shape of y to (n_samples, ), for example using ravel().\n",
      "  y = column_or_1d(y, warn=True)\n",
      "D:\\Programmes files (x86)\\Anaconda\\envs\\tensorflow_env\\lib\\site-packages\\sklearn\\utils\\validation.py:760: DataConversionWarning: A column-vector y was passed when a 1d array was expected. Please change the shape of y to (n_samples, ), for example using ravel().\n",
      "  y = column_or_1d(y, warn=True)\n",
      "D:\\Programmes files (x86)\\Anaconda\\envs\\tensorflow_env\\lib\\site-packages\\sklearn\\utils\\validation.py:760: DataConversionWarning: A column-vector y was passed when a 1d array was expected. Please change the shape of y to (n_samples, ), for example using ravel().\n",
      "  y = column_or_1d(y, warn=True)\n",
      "D:\\Programmes files (x86)\\Anaconda\\envs\\tensorflow_env\\lib\\site-packages\\sklearn\\utils\\validation.py:760: DataConversionWarning: A column-vector y was passed when a 1d array was expected. Please change the shape of y to (n_samples, ), for example using ravel().\n",
      "  y = column_or_1d(y, warn=True)\n"
     ]
    },
    {
     "name": "stdout",
     "output_type": "stream",
     "text": [
      "Time taken to run: 0.0 minutes\n",
      "Best accuracy: 0.75\n",
      "Best parameters: {'C': 0.02, 'fit_intercept': True, 'penalty': 'l2'}\n"
     ]
    },
    {
     "name": "stderr",
     "output_type": "stream",
     "text": [
      "D:\\Programmes files (x86)\\Anaconda\\envs\\tensorflow_env\\lib\\site-packages\\sklearn\\utils\\validation.py:760: DataConversionWarning: A column-vector y was passed when a 1d array was expected. Please change the shape of y to (n_samples, ), for example using ravel().\n",
      "  y = column_or_1d(y, warn=True)\n",
      "D:\\Programmes files (x86)\\Anaconda\\envs\\tensorflow_env\\lib\\site-packages\\sklearn\\utils\\validation.py:760: DataConversionWarning: A column-vector y was passed when a 1d array was expected. Please change the shape of y to (n_samples, ), for example using ravel().\n",
      "  y = column_or_1d(y, warn=True)\n",
      "D:\\Programmes files (x86)\\Anaconda\\envs\\tensorflow_env\\lib\\site-packages\\sklearn\\utils\\validation.py:760: DataConversionWarning: A column-vector y was passed when a 1d array was expected. Please change the shape of y to (n_samples, ), for example using ravel().\n",
      "  y = column_or_1d(y, warn=True)\n",
      "D:\\Programmes files (x86)\\Anaconda\\envs\\tensorflow_env\\lib\\site-packages\\sklearn\\utils\\validation.py:760: DataConversionWarning: A column-vector y was passed when a 1d array was expected. Please change the shape of y to (n_samples, ), for example using ravel().\n",
      "  y = column_or_1d(y, warn=True)\n",
      "D:\\Programmes files (x86)\\Anaconda\\envs\\tensorflow_env\\lib\\site-packages\\sklearn\\utils\\validation.py:760: DataConversionWarning: A column-vector y was passed when a 1d array was expected. Please change the shape of y to (n_samples, ), for example using ravel().\n",
      "  y = column_or_1d(y, warn=True)\n"
     ]
    }
   ],
   "source": [
    "# Using GridSearchCV to test different parameters\n",
    "lr_start = time.time()\n",
    "\n",
    "lr = LogisticRegression()\n",
    "\n",
    "params_lr = [{'penalty': ['l2'], 'fit_intercept': [True],'C': [0.01,0.02,0.03,0.04,0.05,0.06,0.07,0.08,0.09,0.1]}]\n",
    "\n",
    "grid_lr = GridSearchCV(estimator=lr, param_grid=params_lr, cv=2)\n",
    "\n",
    "grid_lr.fit(X_train_stacked, y_train.iloc[:samples_train,:])\n",
    "\n",
    "lr_end = time.time()\n",
    "\n",
    "lr_best_score = grid_lr.best_score_\n",
    "lr_best_params = grid_lr.best_params_\n",
    "\n",
    "print(f\"Time taken to run: {round((lr_end - lr_start)/60,1)} minutes\")\n",
    "print(\"Best accuracy:\", round(lr_best_score,2))\n",
    "print(\"Best parameters:\", lr_best_params)"
   ]
  },
  {
   "cell_type": "markdown",
   "metadata": {},
   "source": [
    "### GS : SVM\n",
    "Let's grid search over the parameters of the Support Vector Machine."
   ]
  },
  {
   "cell_type": "code",
   "execution_count": 139,
   "metadata": {
    "scrolled": true
   },
   "outputs": [
    {
     "name": "stderr",
     "output_type": "stream",
     "text": [
      "D:\\Programmes files (x86)\\Anaconda\\envs\\tensorflow_env\\lib\\site-packages\\sklearn\\utils\\validation.py:760: DataConversionWarning: A column-vector y was passed when a 1d array was expected. Please change the shape of y to (n_samples, ), for example using ravel().\n",
      "  y = column_or_1d(y, warn=True)\n",
      "D:\\Programmes files (x86)\\Anaconda\\envs\\tensorflow_env\\lib\\site-packages\\sklearn\\utils\\validation.py:760: DataConversionWarning: A column-vector y was passed when a 1d array was expected. Please change the shape of y to (n_samples, ), for example using ravel().\n",
      "  y = column_or_1d(y, warn=True)\n",
      "D:\\Programmes files (x86)\\Anaconda\\envs\\tensorflow_env\\lib\\site-packages\\sklearn\\utils\\validation.py:760: DataConversionWarning: A column-vector y was passed when a 1d array was expected. Please change the shape of y to (n_samples, ), for example using ravel().\n",
      "  y = column_or_1d(y, warn=True)\n",
      "D:\\Programmes files (x86)\\Anaconda\\envs\\tensorflow_env\\lib\\site-packages\\sklearn\\utils\\validation.py:760: DataConversionWarning: A column-vector y was passed when a 1d array was expected. Please change the shape of y to (n_samples, ), for example using ravel().\n",
      "  y = column_or_1d(y, warn=True)\n",
      "D:\\Programmes files (x86)\\Anaconda\\envs\\tensorflow_env\\lib\\site-packages\\sklearn\\utils\\validation.py:760: DataConversionWarning: A column-vector y was passed when a 1d array was expected. Please change the shape of y to (n_samples, ), for example using ravel().\n",
      "  y = column_or_1d(y, warn=True)\n",
      "D:\\Programmes files (x86)\\Anaconda\\envs\\tensorflow_env\\lib\\site-packages\\sklearn\\utils\\validation.py:760: DataConversionWarning: A column-vector y was passed when a 1d array was expected. Please change the shape of y to (n_samples, ), for example using ravel().\n",
      "  y = column_or_1d(y, warn=True)\n",
      "D:\\Programmes files (x86)\\Anaconda\\envs\\tensorflow_env\\lib\\site-packages\\sklearn\\utils\\validation.py:760: DataConversionWarning: A column-vector y was passed when a 1d array was expected. Please change the shape of y to (n_samples, ), for example using ravel().\n",
      "  y = column_or_1d(y, warn=True)\n",
      "D:\\Programmes files (x86)\\Anaconda\\envs\\tensorflow_env\\lib\\site-packages\\sklearn\\utils\\validation.py:760: DataConversionWarning: A column-vector y was passed when a 1d array was expected. Please change the shape of y to (n_samples, ), for example using ravel().\n",
      "  y = column_or_1d(y, warn=True)\n",
      "D:\\Programmes files (x86)\\Anaconda\\envs\\tensorflow_env\\lib\\site-packages\\sklearn\\utils\\validation.py:760: DataConversionWarning: A column-vector y was passed when a 1d array was expected. Please change the shape of y to (n_samples, ), for example using ravel().\n",
      "  y = column_or_1d(y, warn=True)\n"
     ]
    },
    {
     "name": "stdout",
     "output_type": "stream",
     "text": [
      "Time taken to run: 0.2 minutes\n",
      "Best accuracy: 0.76\n",
      "Best parameters: {'C': 0.01, 'coef0': 0.01, 'gamma': 'scale', 'kernel': 'linear'}\n"
     ]
    }
   ],
   "source": [
    "# Using GridSearchCV to test different parameters\n",
    "svm_start = time.time()\n",
    "\n",
    "# svm = svm.SVC()\n",
    "\n",
    "params_svm = [{'kernel': ['linear'], 'gamma':['scale'], 'coef0':[0.01, 0.01],'C': [0.01, 0.01]}]\n",
    "\n",
    "grid_svm = GridSearchCV(estimator=svm, param_grid=params_svm, cv=2)\n",
    "\n",
    "grid_svm.fit(X_train_stacked, y_train.iloc[:samples_train,:])\n",
    "\n",
    "svm_end = time.time()\n",
    "\n",
    "svm_best_score = grid_svm.best_score_\n",
    "svm_best_params = grid_svm.best_params_\n",
    "\n",
    "print(f\"Time taken to run: {round((svm_end - svm_start)/60,1)} minutes\")\n",
    "print(\"Best accuracy:\", round(svm_best_score,2))\n",
    "print(\"Best parameters:\", svm_best_params)"
   ]
  },
  {
   "cell_type": "markdown",
   "metadata": {},
   "source": [
    "### GS : Random Forest\n",
    "Let's grid search over the parameters of the Random forest algorithm."
   ]
  },
  {
   "cell_type": "code",
   "execution_count": 149,
   "metadata": {
    "scrolled": true
   },
   "outputs": [
    {
     "name": "stderr",
     "output_type": "stream",
     "text": [
      "D:\\Programmes files (x86)\\Anaconda\\envs\\tensorflow_env\\lib\\site-packages\\sklearn\\model_selection\\_validation.py:515: DataConversionWarning: A column-vector y was passed when a 1d array was expected. Please change the shape of y to (n_samples,), for example using ravel().\n",
      "  estimator.fit(X_train, y_train, **fit_params)\n",
      "D:\\Programmes files (x86)\\Anaconda\\envs\\tensorflow_env\\lib\\site-packages\\sklearn\\model_selection\\_validation.py:515: DataConversionWarning: A column-vector y was passed when a 1d array was expected. Please change the shape of y to (n_samples,), for example using ravel().\n",
      "  estimator.fit(X_train, y_train, **fit_params)\n",
      "D:\\Programmes files (x86)\\Anaconda\\envs\\tensorflow_env\\lib\\site-packages\\sklearn\\model_selection\\_validation.py:515: DataConversionWarning: A column-vector y was passed when a 1d array was expected. Please change the shape of y to (n_samples,), for example using ravel().\n",
      "  estimator.fit(X_train, y_train, **fit_params)\n",
      "D:\\Programmes files (x86)\\Anaconda\\envs\\tensorflow_env\\lib\\site-packages\\sklearn\\model_selection\\_validation.py:515: DataConversionWarning: A column-vector y was passed when a 1d array was expected. Please change the shape of y to (n_samples,), for example using ravel().\n",
      "  estimator.fit(X_train, y_train, **fit_params)\n",
      "D:\\Programmes files (x86)\\Anaconda\\envs\\tensorflow_env\\lib\\site-packages\\sklearn\\model_selection\\_validation.py:515: DataConversionWarning: A column-vector y was passed when a 1d array was expected. Please change the shape of y to (n_samples,), for example using ravel().\n",
      "  estimator.fit(X_train, y_train, **fit_params)\n",
      "D:\\Programmes files (x86)\\Anaconda\\envs\\tensorflow_env\\lib\\site-packages\\sklearn\\model_selection\\_validation.py:515: DataConversionWarning: A column-vector y was passed when a 1d array was expected. Please change the shape of y to (n_samples,), for example using ravel().\n",
      "  estimator.fit(X_train, y_train, **fit_params)\n",
      "D:\\Programmes files (x86)\\Anaconda\\envs\\tensorflow_env\\lib\\site-packages\\sklearn\\model_selection\\_validation.py:515: DataConversionWarning: A column-vector y was passed when a 1d array was expected. Please change the shape of y to (n_samples,), for example using ravel().\n",
      "  estimator.fit(X_train, y_train, **fit_params)\n",
      "D:\\Programmes files (x86)\\Anaconda\\envs\\tensorflow_env\\lib\\site-packages\\sklearn\\model_selection\\_validation.py:515: DataConversionWarning: A column-vector y was passed when a 1d array was expected. Please change the shape of y to (n_samples,), for example using ravel().\n",
      "  estimator.fit(X_train, y_train, **fit_params)\n",
      "D:\\Programmes files (x86)\\Anaconda\\envs\\tensorflow_env\\lib\\site-packages\\sklearn\\model_selection\\_validation.py:515: DataConversionWarning: A column-vector y was passed when a 1d array was expected. Please change the shape of y to (n_samples,), for example using ravel().\n",
      "  estimator.fit(X_train, y_train, **fit_params)\n",
      "D:\\Programmes files (x86)\\Anaconda\\envs\\tensorflow_env\\lib\\site-packages\\sklearn\\model_selection\\_validation.py:515: DataConversionWarning: A column-vector y was passed when a 1d array was expected. Please change the shape of y to (n_samples,), for example using ravel().\n",
      "  estimator.fit(X_train, y_train, **fit_params)\n",
      "D:\\Programmes files (x86)\\Anaconda\\envs\\tensorflow_env\\lib\\site-packages\\sklearn\\model_selection\\_validation.py:515: DataConversionWarning: A column-vector y was passed when a 1d array was expected. Please change the shape of y to (n_samples,), for example using ravel().\n",
      "  estimator.fit(X_train, y_train, **fit_params)\n",
      "D:\\Programmes files (x86)\\Anaconda\\envs\\tensorflow_env\\lib\\site-packages\\sklearn\\model_selection\\_validation.py:515: DataConversionWarning: A column-vector y was passed when a 1d array was expected. Please change the shape of y to (n_samples,), for example using ravel().\n",
      "  estimator.fit(X_train, y_train, **fit_params)\n",
      "D:\\Programmes files (x86)\\Anaconda\\envs\\tensorflow_env\\lib\\site-packages\\sklearn\\model_selection\\_validation.py:515: DataConversionWarning: A column-vector y was passed when a 1d array was expected. Please change the shape of y to (n_samples,), for example using ravel().\n",
      "  estimator.fit(X_train, y_train, **fit_params)\n",
      "D:\\Programmes files (x86)\\Anaconda\\envs\\tensorflow_env\\lib\\site-packages\\sklearn\\model_selection\\_validation.py:515: DataConversionWarning: A column-vector y was passed when a 1d array was expected. Please change the shape of y to (n_samples,), for example using ravel().\n",
      "  estimator.fit(X_train, y_train, **fit_params)\n",
      "D:\\Programmes files (x86)\\Anaconda\\envs\\tensorflow_env\\lib\\site-packages\\sklearn\\model_selection\\_validation.py:515: DataConversionWarning: A column-vector y was passed when a 1d array was expected. Please change the shape of y to (n_samples,), for example using ravel().\n",
      "  estimator.fit(X_train, y_train, **fit_params)\n",
      "D:\\Programmes files (x86)\\Anaconda\\envs\\tensorflow_env\\lib\\site-packages\\sklearn\\model_selection\\_validation.py:515: DataConversionWarning: A column-vector y was passed when a 1d array was expected. Please change the shape of y to (n_samples,), for example using ravel().\n",
      "  estimator.fit(X_train, y_train, **fit_params)\n",
      "D:\\Programmes files (x86)\\Anaconda\\envs\\tensorflow_env\\lib\\site-packages\\sklearn\\model_selection\\_validation.py:515: DataConversionWarning: A column-vector y was passed when a 1d array was expected. Please change the shape of y to (n_samples,), for example using ravel().\n",
      "  estimator.fit(X_train, y_train, **fit_params)\n",
      "D:\\Programmes files (x86)\\Anaconda\\envs\\tensorflow_env\\lib\\site-packages\\sklearn\\model_selection\\_validation.py:515: DataConversionWarning: A column-vector y was passed when a 1d array was expected. Please change the shape of y to (n_samples,), for example using ravel().\n",
      "  estimator.fit(X_train, y_train, **fit_params)\n",
      "D:\\Programmes files (x86)\\Anaconda\\envs\\tensorflow_env\\lib\\site-packages\\sklearn\\model_selection\\_validation.py:515: DataConversionWarning: A column-vector y was passed when a 1d array was expected. Please change the shape of y to (n_samples,), for example using ravel().\n",
      "  estimator.fit(X_train, y_train, **fit_params)\n",
      "D:\\Programmes files (x86)\\Anaconda\\envs\\tensorflow_env\\lib\\site-packages\\sklearn\\model_selection\\_validation.py:515: DataConversionWarning: A column-vector y was passed when a 1d array was expected. Please change the shape of y to (n_samples,), for example using ravel().\n",
      "  estimator.fit(X_train, y_train, **fit_params)\n",
      "D:\\Programmes files (x86)\\Anaconda\\envs\\tensorflow_env\\lib\\site-packages\\sklearn\\model_selection\\_validation.py:515: DataConversionWarning: A column-vector y was passed when a 1d array was expected. Please change the shape of y to (n_samples,), for example using ravel().\n",
      "  estimator.fit(X_train, y_train, **fit_params)\n",
      "D:\\Programmes files (x86)\\Anaconda\\envs\\tensorflow_env\\lib\\site-packages\\sklearn\\model_selection\\_validation.py:515: DataConversionWarning: A column-vector y was passed when a 1d array was expected. Please change the shape of y to (n_samples,), for example using ravel().\n",
      "  estimator.fit(X_train, y_train, **fit_params)\n",
      "D:\\Programmes files (x86)\\Anaconda\\envs\\tensorflow_env\\lib\\site-packages\\sklearn\\model_selection\\_validation.py:515: DataConversionWarning: A column-vector y was passed when a 1d array was expected. Please change the shape of y to (n_samples,), for example using ravel().\n",
      "  estimator.fit(X_train, y_train, **fit_params)\n",
      "D:\\Programmes files (x86)\\Anaconda\\envs\\tensorflow_env\\lib\\site-packages\\sklearn\\model_selection\\_validation.py:515: DataConversionWarning: A column-vector y was passed when a 1d array was expected. Please change the shape of y to (n_samples,), for example using ravel().\n",
      "  estimator.fit(X_train, y_train, **fit_params)\n",
      "D:\\Programmes files (x86)\\Anaconda\\envs\\tensorflow_env\\lib\\site-packages\\sklearn\\model_selection\\_validation.py:515: DataConversionWarning: A column-vector y was passed when a 1d array was expected. Please change the shape of y to (n_samples,), for example using ravel().\n",
      "  estimator.fit(X_train, y_train, **fit_params)\n",
      "D:\\Programmes files (x86)\\Anaconda\\envs\\tensorflow_env\\lib\\site-packages\\sklearn\\model_selection\\_validation.py:515: DataConversionWarning: A column-vector y was passed when a 1d array was expected. Please change the shape of y to (n_samples,), for example using ravel().\n",
      "  estimator.fit(X_train, y_train, **fit_params)\n"
     ]
    },
    {
     "name": "stderr",
     "output_type": "stream",
     "text": [
      "D:\\Programmes files (x86)\\Anaconda\\envs\\tensorflow_env\\lib\\site-packages\\sklearn\\model_selection\\_validation.py:515: DataConversionWarning: A column-vector y was passed when a 1d array was expected. Please change the shape of y to (n_samples,), for example using ravel().\n",
      "  estimator.fit(X_train, y_train, **fit_params)\n",
      "D:\\Programmes files (x86)\\Anaconda\\envs\\tensorflow_env\\lib\\site-packages\\sklearn\\model_selection\\_validation.py:515: DataConversionWarning: A column-vector y was passed when a 1d array was expected. Please change the shape of y to (n_samples,), for example using ravel().\n",
      "  estimator.fit(X_train, y_train, **fit_params)\n",
      "D:\\Programmes files (x86)\\Anaconda\\envs\\tensorflow_env\\lib\\site-packages\\sklearn\\model_selection\\_validation.py:515: DataConversionWarning: A column-vector y was passed when a 1d array was expected. Please change the shape of y to (n_samples,), for example using ravel().\n",
      "  estimator.fit(X_train, y_train, **fit_params)\n",
      "D:\\Programmes files (x86)\\Anaconda\\envs\\tensorflow_env\\lib\\site-packages\\sklearn\\model_selection\\_validation.py:515: DataConversionWarning: A column-vector y was passed when a 1d array was expected. Please change the shape of y to (n_samples,), for example using ravel().\n",
      "  estimator.fit(X_train, y_train, **fit_params)\n",
      "D:\\Programmes files (x86)\\Anaconda\\envs\\tensorflow_env\\lib\\site-packages\\sklearn\\model_selection\\_validation.py:515: DataConversionWarning: A column-vector y was passed when a 1d array was expected. Please change the shape of y to (n_samples,), for example using ravel().\n",
      "  estimator.fit(X_train, y_train, **fit_params)\n",
      "D:\\Programmes files (x86)\\Anaconda\\envs\\tensorflow_env\\lib\\site-packages\\sklearn\\model_selection\\_validation.py:515: DataConversionWarning: A column-vector y was passed when a 1d array was expected. Please change the shape of y to (n_samples,), for example using ravel().\n",
      "  estimator.fit(X_train, y_train, **fit_params)\n",
      "D:\\Programmes files (x86)\\Anaconda\\envs\\tensorflow_env\\lib\\site-packages\\sklearn\\model_selection\\_validation.py:515: DataConversionWarning: A column-vector y was passed when a 1d array was expected. Please change the shape of y to (n_samples,), for example using ravel().\n",
      "  estimator.fit(X_train, y_train, **fit_params)\n",
      "D:\\Programmes files (x86)\\Anaconda\\envs\\tensorflow_env\\lib\\site-packages\\sklearn\\model_selection\\_validation.py:515: DataConversionWarning: A column-vector y was passed when a 1d array was expected. Please change the shape of y to (n_samples,), for example using ravel().\n",
      "  estimator.fit(X_train, y_train, **fit_params)\n",
      "D:\\Programmes files (x86)\\Anaconda\\envs\\tensorflow_env\\lib\\site-packages\\sklearn\\model_selection\\_validation.py:515: DataConversionWarning: A column-vector y was passed when a 1d array was expected. Please change the shape of y to (n_samples,), for example using ravel().\n",
      "  estimator.fit(X_train, y_train, **fit_params)\n",
      "D:\\Programmes files (x86)\\Anaconda\\envs\\tensorflow_env\\lib\\site-packages\\sklearn\\model_selection\\_validation.py:515: DataConversionWarning: A column-vector y was passed when a 1d array was expected. Please change the shape of y to (n_samples,), for example using ravel().\n",
      "  estimator.fit(X_train, y_train, **fit_params)\n",
      "D:\\Programmes files (x86)\\Anaconda\\envs\\tensorflow_env\\lib\\site-packages\\sklearn\\model_selection\\_search.py:739: DataConversionWarning: A column-vector y was passed when a 1d array was expected. Please change the shape of y to (n_samples,), for example using ravel().\n",
      "  self.best_estimator_.fit(X, y, **fit_params)\n"
     ]
    },
    {
     "name": "stdout",
     "output_type": "stream",
     "text": [
      "Time taken to run: 0.3 minutes\n",
      "Best accuracy: 0.76\n",
      "Best parameters: {'ccp_alpha': 0.001, 'max_depth': 3, 'min_samples_leaf': 1}\n"
     ]
    }
   ],
   "source": [
    "# Using GridSearchCV to test different parameters\n",
    "rf_start = time.time()\n",
    "\n",
    "rf = RandomForestClassifier()\n",
    "\n",
    "params_rf = [{'max_depth': [3,4,5], 'min_samples_leaf':[1,2,3], 'ccp_alpha':[0,0.001]}]\n",
    "\n",
    "grid_rf = GridSearchCV(estimator=rf, param_grid=params_rf, cv=2)\n",
    "\n",
    "grid_rf.fit(X_train_stacked, y_train.iloc[:samples_train,:])\n",
    "\n",
    "rf_end = time.time()\n",
    "\n",
    "rf_best_score = grid_rf.best_score_\n",
    "rf_best_params = grid_rf.best_params_\n",
    "\n",
    "print(f\"Time taken to run: {round((rf_end - rf_start)/60,1)} minutes\")\n",
    "print(\"Best accuracy:\", round(rf_best_score,2))\n",
    "print(\"Best parameters:\", rf_best_params)"
   ]
  },
  {
   "cell_type": "markdown",
   "metadata": {},
   "source": [
    "### GS : XGBoost\n",
    "Let's grid search over the parameters of the Gradient Boosting Algorithm."
   ]
  },
  {
   "cell_type": "code",
   "execution_count": 48,
   "metadata": {
    "scrolled": true
   },
   "outputs": [
    {
     "name": "stderr",
     "output_type": "stream",
     "text": [
      "D:\\Programmes files (x86)\\Anaconda\\envs\\tensorflow_env\\lib\\site-packages\\sklearn\\ensemble\\_gb.py:1454: DataConversionWarning: A column-vector y was passed when a 1d array was expected. Please change the shape of y to (n_samples, ), for example using ravel().\n",
      "  y = column_or_1d(y, warn=True)\n",
      "D:\\Programmes files (x86)\\Anaconda\\envs\\tensorflow_env\\lib\\site-packages\\sklearn\\ensemble\\_gb.py:1454: DataConversionWarning: A column-vector y was passed when a 1d array was expected. Please change the shape of y to (n_samples, ), for example using ravel().\n",
      "  y = column_or_1d(y, warn=True)\n",
      "D:\\Programmes files (x86)\\Anaconda\\envs\\tensorflow_env\\lib\\site-packages\\sklearn\\ensemble\\_gb.py:1454: DataConversionWarning: A column-vector y was passed when a 1d array was expected. Please change the shape of y to (n_samples, ), for example using ravel().\n",
      "  y = column_or_1d(y, warn=True)\n",
      "D:\\Programmes files (x86)\\Anaconda\\envs\\tensorflow_env\\lib\\site-packages\\sklearn\\ensemble\\_gb.py:1454: DataConversionWarning: A column-vector y was passed when a 1d array was expected. Please change the shape of y to (n_samples, ), for example using ravel().\n",
      "  y = column_or_1d(y, warn=True)\n",
      "D:\\Programmes files (x86)\\Anaconda\\envs\\tensorflow_env\\lib\\site-packages\\sklearn\\ensemble\\_gb.py:1454: DataConversionWarning: A column-vector y was passed when a 1d array was expected. Please change the shape of y to (n_samples, ), for example using ravel().\n",
      "  y = column_or_1d(y, warn=True)\n",
      "D:\\Programmes files (x86)\\Anaconda\\envs\\tensorflow_env\\lib\\site-packages\\sklearn\\ensemble\\_gb.py:1454: DataConversionWarning: A column-vector y was passed when a 1d array was expected. Please change the shape of y to (n_samples, ), for example using ravel().\n",
      "  y = column_or_1d(y, warn=True)\n",
      "D:\\Programmes files (x86)\\Anaconda\\envs\\tensorflow_env\\lib\\site-packages\\sklearn\\ensemble\\_gb.py:1454: DataConversionWarning: A column-vector y was passed when a 1d array was expected. Please change the shape of y to (n_samples, ), for example using ravel().\n",
      "  y = column_or_1d(y, warn=True)\n",
      "D:\\Programmes files (x86)\\Anaconda\\envs\\tensorflow_env\\lib\\site-packages\\sklearn\\ensemble\\_gb.py:1454: DataConversionWarning: A column-vector y was passed when a 1d array was expected. Please change the shape of y to (n_samples, ), for example using ravel().\n",
      "  y = column_or_1d(y, warn=True)\n",
      "D:\\Programmes files (x86)\\Anaconda\\envs\\tensorflow_env\\lib\\site-packages\\sklearn\\ensemble\\_gb.py:1454: DataConversionWarning: A column-vector y was passed when a 1d array was expected. Please change the shape of y to (n_samples, ), for example using ravel().\n",
      "  y = column_or_1d(y, warn=True)\n",
      "D:\\Programmes files (x86)\\Anaconda\\envs\\tensorflow_env\\lib\\site-packages\\sklearn\\ensemble\\_gb.py:1454: DataConversionWarning: A column-vector y was passed when a 1d array was expected. Please change the shape of y to (n_samples, ), for example using ravel().\n",
      "  y = column_or_1d(y, warn=True)\n",
      "D:\\Programmes files (x86)\\Anaconda\\envs\\tensorflow_env\\lib\\site-packages\\sklearn\\ensemble\\_gb.py:1454: DataConversionWarning: A column-vector y was passed when a 1d array was expected. Please change the shape of y to (n_samples, ), for example using ravel().\n",
      "  y = column_or_1d(y, warn=True)\n",
      "D:\\Programmes files (x86)\\Anaconda\\envs\\tensorflow_env\\lib\\site-packages\\sklearn\\ensemble\\_gb.py:1454: DataConversionWarning: A column-vector y was passed when a 1d array was expected. Please change the shape of y to (n_samples, ), for example using ravel().\n",
      "  y = column_or_1d(y, warn=True)\n",
      "D:\\Programmes files (x86)\\Anaconda\\envs\\tensorflow_env\\lib\\site-packages\\sklearn\\ensemble\\_gb.py:1454: DataConversionWarning: A column-vector y was passed when a 1d array was expected. Please change the shape of y to (n_samples, ), for example using ravel().\n",
      "  y = column_or_1d(y, warn=True)\n"
     ]
    },
    {
     "name": "stdout",
     "output_type": "stream",
     "text": [
      "Time taken to run: 0.1 minutes\n",
      "Best accuracy: 0.76\n",
      "Best parameters: {'ccp_alpha': 0, 'max_depth': 5, 'min_samples_leaf': 3, 'n_estimators': 30}\n"
     ]
    }
   ],
   "source": [
    "from sklearn.ensemble import GradientBoostingClassifier\n",
    "# Using GridSearchCV to test different parameters\n",
    "xgb_start = time.time()\n",
    "\n",
    "xgb = GradientBoostingClassifier()\n",
    "\n",
    "params_xgb = [{'n_estimators': [10, 20, 30], 'min_samples_leaf':[3], 'max_depth':[5, 6], 'ccp_alpha':[0]}]\n",
    "\n",
    "grid_xgb = GridSearchCV(estimator = xgb, param_grid = params_xgb, cv=2)\n",
    "\n",
    "grid_xgb.fit(X_train_stacked, y_train.iloc[:samples_train,:])\n",
    "\n",
    "xgb_end = time.time()\n",
    "\n",
    "xgb_best_score = grid_xgb.best_score_\n",
    "xgb_best_params = grid_xgb.best_params_\n",
    "\n",
    "print(f\"Time taken to run: {round((xgb_end - xgb_start)/60,1)} minutes\")\n",
    "print(\"Best accuracy:\", round(xgb_best_score,2))\n",
    "print(\"Best parameters:\", xgb_best_params)"
   ]
  },
  {
   "cell_type": "markdown",
   "metadata": {},
   "source": [
    "# Conclusion\n",
    "Finally, after we found the best parameters (maybe not the ultimate parameters, the computational time necessary to do so is gigantic), the <font color = purple>logistic regression and adaboost</font> proved to be the best top-level learners with a final **f1-score of 75,48%**. We found better results than the author of the base notebook we used.\n",
    "For further improvements, we could have taken a closer look to the misclassified examples and could have done some DIY to overcome this very misclassification."
   ]
  },
  {
   "cell_type": "markdown",
   "metadata": {},
   "source": []
  },
  {
   "cell_type": "code",
   "execution_count": null,
   "metadata": {},
   "outputs": [],
   "source": []
  }
 ],
 "metadata": {
  "kernelspec": {
   "display_name": "Python 3",
   "language": "python",
   "name": "python3"
  },
  "language_info": {
   "codemirror_mode": {
    "name": "ipython",
    "version": 3
   },
   "file_extension": ".py",
   "mimetype": "text/x-python",
   "name": "python",
   "nbconvert_exporter": "python",
   "pygments_lexer": "ipython3",
   "version": "3.6.7"
  }
 },
 "nbformat": 4,
 "nbformat_minor": 2
}
